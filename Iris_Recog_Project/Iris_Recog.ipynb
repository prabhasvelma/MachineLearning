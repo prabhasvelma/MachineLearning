{
  "nbformat": 4,
  "nbformat_minor": 0,
  "metadata": {
    "colab": {
      "provenance": []
    },
    "kernelspec": {
      "name": "python3",
      "display_name": "Python 3"
    },
    "language_info": {
      "name": "python"
    }
  },
  "cells": [
    {
      "cell_type": "code",
      "execution_count": 1,
      "metadata": {
        "id": "W_HRTUGOiuGN"
      },
      "outputs": [],
      "source": [
        "from matplotlib import pyplot as plt\n",
        "from sklearn.datasets import load_iris\n",
        "import pandas as pd\n",
        "from sklearn.linear_model import LogisticRegression as logisticRegression"
      ]
    },
    {
      "cell_type": "code",
      "source": [
        "iris = load_iris()"
      ],
      "metadata": {
        "id": "SLaDWoGUi6A5"
      },
      "execution_count": 2,
      "outputs": []
    },
    {
      "cell_type": "code",
      "source": [
        "iris.keys()"
      ],
      "metadata": {
        "colab": {
          "base_uri": "https://localhost:8080/"
        },
        "id": "2JJrGQJxjORL",
        "outputId": "6a6fbfde-4f1e-47e7-9096-149985ce57f9"
      },
      "execution_count": 3,
      "outputs": [
        {
          "output_type": "execute_result",
          "data": {
            "text/plain": [
              "dict_keys(['data', 'target', 'frame', 'target_names', 'DESCR', 'feature_names', 'filename', 'data_module'])"
            ]
          },
          "metadata": {},
          "execution_count": 3
        }
      ]
    },
    {
      "cell_type": "code",
      "source": [
        "iris.data[0]"
      ],
      "metadata": {
        "colab": {
          "base_uri": "https://localhost:8080/"
        },
        "id": "2e_VJsuVjSoK",
        "outputId": "7dd070ec-388c-4b1a-b1ca-9633d12c182e"
      },
      "execution_count": 4,
      "outputs": [
        {
          "output_type": "execute_result",
          "data": {
            "text/plain": [
              "array([5.1, 3.5, 1.4, 0.2])"
            ]
          },
          "metadata": {},
          "execution_count": 4
        }
      ]
    },
    {
      "cell_type": "code",
      "source": [
        "iris.target[0]"
      ],
      "metadata": {
        "colab": {
          "base_uri": "https://localhost:8080/"
        },
        "id": "cF84tOHmjXWU",
        "outputId": "e32d2e1d-a72e-4e45-9a03-1e69c11d8237"
      },
      "execution_count": 5,
      "outputs": [
        {
          "output_type": "execute_result",
          "data": {
            "text/plain": [
              "0"
            ]
          },
          "metadata": {},
          "execution_count": 5
        }
      ]
    },
    {
      "cell_type": "code",
      "source": [
        "rg=logisticRegression()"
      ],
      "metadata": {
        "id": "Tbvslf10jlVx"
      },
      "execution_count": 6,
      "outputs": []
    },
    {
      "cell_type": "code",
      "source": [
        "for i in range(150):\n",
        "  print(iris.data[[i]],iris.target[i])"
      ],
      "metadata": {
        "colab": {
          "base_uri": "https://localhost:8080/"
        },
        "id": "C6gszgyZmvOA",
        "outputId": "73bb819f-8fd8-40b5-e3f8-e4367395805e"
      },
      "execution_count": 7,
      "outputs": [
        {
          "output_type": "stream",
          "name": "stdout",
          "text": [
            "[[5.1 3.5 1.4 0.2]] 0\n",
            "[[4.9 3.  1.4 0.2]] 0\n",
            "[[4.7 3.2 1.3 0.2]] 0\n",
            "[[4.6 3.1 1.5 0.2]] 0\n",
            "[[5.  3.6 1.4 0.2]] 0\n",
            "[[5.4 3.9 1.7 0.4]] 0\n",
            "[[4.6 3.4 1.4 0.3]] 0\n",
            "[[5.  3.4 1.5 0.2]] 0\n",
            "[[4.4 2.9 1.4 0.2]] 0\n",
            "[[4.9 3.1 1.5 0.1]] 0\n",
            "[[5.4 3.7 1.5 0.2]] 0\n",
            "[[4.8 3.4 1.6 0.2]] 0\n",
            "[[4.8 3.  1.4 0.1]] 0\n",
            "[[4.3 3.  1.1 0.1]] 0\n",
            "[[5.8 4.  1.2 0.2]] 0\n",
            "[[5.7 4.4 1.5 0.4]] 0\n",
            "[[5.4 3.9 1.3 0.4]] 0\n",
            "[[5.1 3.5 1.4 0.3]] 0\n",
            "[[5.7 3.8 1.7 0.3]] 0\n",
            "[[5.1 3.8 1.5 0.3]] 0\n",
            "[[5.4 3.4 1.7 0.2]] 0\n",
            "[[5.1 3.7 1.5 0.4]] 0\n",
            "[[4.6 3.6 1.  0.2]] 0\n",
            "[[5.1 3.3 1.7 0.5]] 0\n",
            "[[4.8 3.4 1.9 0.2]] 0\n",
            "[[5.  3.  1.6 0.2]] 0\n",
            "[[5.  3.4 1.6 0.4]] 0\n",
            "[[5.2 3.5 1.5 0.2]] 0\n",
            "[[5.2 3.4 1.4 0.2]] 0\n",
            "[[4.7 3.2 1.6 0.2]] 0\n",
            "[[4.8 3.1 1.6 0.2]] 0\n",
            "[[5.4 3.4 1.5 0.4]] 0\n",
            "[[5.2 4.1 1.5 0.1]] 0\n",
            "[[5.5 4.2 1.4 0.2]] 0\n",
            "[[4.9 3.1 1.5 0.2]] 0\n",
            "[[5.  3.2 1.2 0.2]] 0\n",
            "[[5.5 3.5 1.3 0.2]] 0\n",
            "[[4.9 3.6 1.4 0.1]] 0\n",
            "[[4.4 3.  1.3 0.2]] 0\n",
            "[[5.1 3.4 1.5 0.2]] 0\n",
            "[[5.  3.5 1.3 0.3]] 0\n",
            "[[4.5 2.3 1.3 0.3]] 0\n",
            "[[4.4 3.2 1.3 0.2]] 0\n",
            "[[5.  3.5 1.6 0.6]] 0\n",
            "[[5.1 3.8 1.9 0.4]] 0\n",
            "[[4.8 3.  1.4 0.3]] 0\n",
            "[[5.1 3.8 1.6 0.2]] 0\n",
            "[[4.6 3.2 1.4 0.2]] 0\n",
            "[[5.3 3.7 1.5 0.2]] 0\n",
            "[[5.  3.3 1.4 0.2]] 0\n",
            "[[7.  3.2 4.7 1.4]] 1\n",
            "[[6.4 3.2 4.5 1.5]] 1\n",
            "[[6.9 3.1 4.9 1.5]] 1\n",
            "[[5.5 2.3 4.  1.3]] 1\n",
            "[[6.5 2.8 4.6 1.5]] 1\n",
            "[[5.7 2.8 4.5 1.3]] 1\n",
            "[[6.3 3.3 4.7 1.6]] 1\n",
            "[[4.9 2.4 3.3 1. ]] 1\n",
            "[[6.6 2.9 4.6 1.3]] 1\n",
            "[[5.2 2.7 3.9 1.4]] 1\n",
            "[[5.  2.  3.5 1. ]] 1\n",
            "[[5.9 3.  4.2 1.5]] 1\n",
            "[[6.  2.2 4.  1. ]] 1\n",
            "[[6.1 2.9 4.7 1.4]] 1\n",
            "[[5.6 2.9 3.6 1.3]] 1\n",
            "[[6.7 3.1 4.4 1.4]] 1\n",
            "[[5.6 3.  4.5 1.5]] 1\n",
            "[[5.8 2.7 4.1 1. ]] 1\n",
            "[[6.2 2.2 4.5 1.5]] 1\n",
            "[[5.6 2.5 3.9 1.1]] 1\n",
            "[[5.9 3.2 4.8 1.8]] 1\n",
            "[[6.1 2.8 4.  1.3]] 1\n",
            "[[6.3 2.5 4.9 1.5]] 1\n",
            "[[6.1 2.8 4.7 1.2]] 1\n",
            "[[6.4 2.9 4.3 1.3]] 1\n",
            "[[6.6 3.  4.4 1.4]] 1\n",
            "[[6.8 2.8 4.8 1.4]] 1\n",
            "[[6.7 3.  5.  1.7]] 1\n",
            "[[6.  2.9 4.5 1.5]] 1\n",
            "[[5.7 2.6 3.5 1. ]] 1\n",
            "[[5.5 2.4 3.8 1.1]] 1\n",
            "[[5.5 2.4 3.7 1. ]] 1\n",
            "[[5.8 2.7 3.9 1.2]] 1\n",
            "[[6.  2.7 5.1 1.6]] 1\n",
            "[[5.4 3.  4.5 1.5]] 1\n",
            "[[6.  3.4 4.5 1.6]] 1\n",
            "[[6.7 3.1 4.7 1.5]] 1\n",
            "[[6.3 2.3 4.4 1.3]] 1\n",
            "[[5.6 3.  4.1 1.3]] 1\n",
            "[[5.5 2.5 4.  1.3]] 1\n",
            "[[5.5 2.6 4.4 1.2]] 1\n",
            "[[6.1 3.  4.6 1.4]] 1\n",
            "[[5.8 2.6 4.  1.2]] 1\n",
            "[[5.  2.3 3.3 1. ]] 1\n",
            "[[5.6 2.7 4.2 1.3]] 1\n",
            "[[5.7 3.  4.2 1.2]] 1\n",
            "[[5.7 2.9 4.2 1.3]] 1\n",
            "[[6.2 2.9 4.3 1.3]] 1\n",
            "[[5.1 2.5 3.  1.1]] 1\n",
            "[[5.7 2.8 4.1 1.3]] 1\n",
            "[[6.3 3.3 6.  2.5]] 2\n",
            "[[5.8 2.7 5.1 1.9]] 2\n",
            "[[7.1 3.  5.9 2.1]] 2\n",
            "[[6.3 2.9 5.6 1.8]] 2\n",
            "[[6.5 3.  5.8 2.2]] 2\n",
            "[[7.6 3.  6.6 2.1]] 2\n",
            "[[4.9 2.5 4.5 1.7]] 2\n",
            "[[7.3 2.9 6.3 1.8]] 2\n",
            "[[6.7 2.5 5.8 1.8]] 2\n",
            "[[7.2 3.6 6.1 2.5]] 2\n",
            "[[6.5 3.2 5.1 2. ]] 2\n",
            "[[6.4 2.7 5.3 1.9]] 2\n",
            "[[6.8 3.  5.5 2.1]] 2\n",
            "[[5.7 2.5 5.  2. ]] 2\n",
            "[[5.8 2.8 5.1 2.4]] 2\n",
            "[[6.4 3.2 5.3 2.3]] 2\n",
            "[[6.5 3.  5.5 1.8]] 2\n",
            "[[7.7 3.8 6.7 2.2]] 2\n",
            "[[7.7 2.6 6.9 2.3]] 2\n",
            "[[6.  2.2 5.  1.5]] 2\n",
            "[[6.9 3.2 5.7 2.3]] 2\n",
            "[[5.6 2.8 4.9 2. ]] 2\n",
            "[[7.7 2.8 6.7 2. ]] 2\n",
            "[[6.3 2.7 4.9 1.8]] 2\n",
            "[[6.7 3.3 5.7 2.1]] 2\n",
            "[[7.2 3.2 6.  1.8]] 2\n",
            "[[6.2 2.8 4.8 1.8]] 2\n",
            "[[6.1 3.  4.9 1.8]] 2\n",
            "[[6.4 2.8 5.6 2.1]] 2\n",
            "[[7.2 3.  5.8 1.6]] 2\n",
            "[[7.4 2.8 6.1 1.9]] 2\n",
            "[[7.9 3.8 6.4 2. ]] 2\n",
            "[[6.4 2.8 5.6 2.2]] 2\n",
            "[[6.3 2.8 5.1 1.5]] 2\n",
            "[[6.1 2.6 5.6 1.4]] 2\n",
            "[[7.7 3.  6.1 2.3]] 2\n",
            "[[6.3 3.4 5.6 2.4]] 2\n",
            "[[6.4 3.1 5.5 1.8]] 2\n",
            "[[6.  3.  4.8 1.8]] 2\n",
            "[[6.9 3.1 5.4 2.1]] 2\n",
            "[[6.7 3.1 5.6 2.4]] 2\n",
            "[[6.9 3.1 5.1 2.3]] 2\n",
            "[[5.8 2.7 5.1 1.9]] 2\n",
            "[[6.8 3.2 5.9 2.3]] 2\n",
            "[[6.7 3.3 5.7 2.5]] 2\n",
            "[[6.7 3.  5.2 2.3]] 2\n",
            "[[6.3 2.5 5.  1.9]] 2\n",
            "[[6.5 3.  5.2 2. ]] 2\n",
            "[[6.2 3.4 5.4 2.3]] 2\n",
            "[[5.9 3.  5.1 1.8]] 2\n"
          ]
        }
      ]
    },
    {
      "cell_type": "code",
      "source": [
        "rg.fit(iris.data,iris.target)"
      ],
      "metadata": {
        "colab": {
          "base_uri": "https://localhost:8080/",
          "height": 214
        },
        "id": "3QcxxH0jkCP6",
        "outputId": "02c2c77f-4942-4929-da62-2476b5f022c6"
      },
      "execution_count": 8,
      "outputs": [
        {
          "output_type": "stream",
          "name": "stderr",
          "text": [
            "/usr/local/lib/python3.10/dist-packages/sklearn/linear_model/_logistic.py:458: ConvergenceWarning: lbfgs failed to converge (status=1):\n",
            "STOP: TOTAL NO. of ITERATIONS REACHED LIMIT.\n",
            "\n",
            "Increase the number of iterations (max_iter) or scale the data as shown in:\n",
            "    https://scikit-learn.org/stable/modules/preprocessing.html\n",
            "Please also refer to the documentation for alternative solver options:\n",
            "    https://scikit-learn.org/stable/modules/linear_model.html#logistic-regression\n",
            "  n_iter_i = _check_optimize_result(\n"
          ]
        },
        {
          "output_type": "execute_result",
          "data": {
            "text/plain": [
              "LogisticRegression()"
            ],
            "text/html": [
              "<style>#sk-container-id-1 {color: black;background-color: white;}#sk-container-id-1 pre{padding: 0;}#sk-container-id-1 div.sk-toggleable {background-color: white;}#sk-container-id-1 label.sk-toggleable__label {cursor: pointer;display: block;width: 100%;margin-bottom: 0;padding: 0.3em;box-sizing: border-box;text-align: center;}#sk-container-id-1 label.sk-toggleable__label-arrow:before {content: \"▸\";float: left;margin-right: 0.25em;color: #696969;}#sk-container-id-1 label.sk-toggleable__label-arrow:hover:before {color: black;}#sk-container-id-1 div.sk-estimator:hover label.sk-toggleable__label-arrow:before {color: black;}#sk-container-id-1 div.sk-toggleable__content {max-height: 0;max-width: 0;overflow: hidden;text-align: left;background-color: #f0f8ff;}#sk-container-id-1 div.sk-toggleable__content pre {margin: 0.2em;color: black;border-radius: 0.25em;background-color: #f0f8ff;}#sk-container-id-1 input.sk-toggleable__control:checked~div.sk-toggleable__content {max-height: 200px;max-width: 100%;overflow: auto;}#sk-container-id-1 input.sk-toggleable__control:checked~label.sk-toggleable__label-arrow:before {content: \"▾\";}#sk-container-id-1 div.sk-estimator input.sk-toggleable__control:checked~label.sk-toggleable__label {background-color: #d4ebff;}#sk-container-id-1 div.sk-label input.sk-toggleable__control:checked~label.sk-toggleable__label {background-color: #d4ebff;}#sk-container-id-1 input.sk-hidden--visually {border: 0;clip: rect(1px 1px 1px 1px);clip: rect(1px, 1px, 1px, 1px);height: 1px;margin: -1px;overflow: hidden;padding: 0;position: absolute;width: 1px;}#sk-container-id-1 div.sk-estimator {font-family: monospace;background-color: #f0f8ff;border: 1px dotted black;border-radius: 0.25em;box-sizing: border-box;margin-bottom: 0.5em;}#sk-container-id-1 div.sk-estimator:hover {background-color: #d4ebff;}#sk-container-id-1 div.sk-parallel-item::after {content: \"\";width: 100%;border-bottom: 1px solid gray;flex-grow: 1;}#sk-container-id-1 div.sk-label:hover label.sk-toggleable__label {background-color: #d4ebff;}#sk-container-id-1 div.sk-serial::before {content: \"\";position: absolute;border-left: 1px solid gray;box-sizing: border-box;top: 0;bottom: 0;left: 50%;z-index: 0;}#sk-container-id-1 div.sk-serial {display: flex;flex-direction: column;align-items: center;background-color: white;padding-right: 0.2em;padding-left: 0.2em;position: relative;}#sk-container-id-1 div.sk-item {position: relative;z-index: 1;}#sk-container-id-1 div.sk-parallel {display: flex;align-items: stretch;justify-content: center;background-color: white;position: relative;}#sk-container-id-1 div.sk-item::before, #sk-container-id-1 div.sk-parallel-item::before {content: \"\";position: absolute;border-left: 1px solid gray;box-sizing: border-box;top: 0;bottom: 0;left: 50%;z-index: -1;}#sk-container-id-1 div.sk-parallel-item {display: flex;flex-direction: column;z-index: 1;position: relative;background-color: white;}#sk-container-id-1 div.sk-parallel-item:first-child::after {align-self: flex-end;width: 50%;}#sk-container-id-1 div.sk-parallel-item:last-child::after {align-self: flex-start;width: 50%;}#sk-container-id-1 div.sk-parallel-item:only-child::after {width: 0;}#sk-container-id-1 div.sk-dashed-wrapped {border: 1px dashed gray;margin: 0 0.4em 0.5em 0.4em;box-sizing: border-box;padding-bottom: 0.4em;background-color: white;}#sk-container-id-1 div.sk-label label {font-family: monospace;font-weight: bold;display: inline-block;line-height: 1.2em;}#sk-container-id-1 div.sk-label-container {text-align: center;}#sk-container-id-1 div.sk-container {/* jupyter's `normalize.less` sets `[hidden] { display: none; }` but bootstrap.min.css set `[hidden] { display: none !important; }` so we also need the `!important` here to be able to override the default hidden behavior on the sphinx rendered scikit-learn.org. See: https://github.com/scikit-learn/scikit-learn/issues/21755 */display: inline-block !important;position: relative;}#sk-container-id-1 div.sk-text-repr-fallback {display: none;}</style><div id=\"sk-container-id-1\" class=\"sk-top-container\"><div class=\"sk-text-repr-fallback\"><pre>LogisticRegression()</pre><b>In a Jupyter environment, please rerun this cell to show the HTML representation or trust the notebook. <br />On GitHub, the HTML representation is unable to render, please try loading this page with nbviewer.org.</b></div><div class=\"sk-container\" hidden><div class=\"sk-item\"><div class=\"sk-estimator sk-toggleable\"><input class=\"sk-toggleable__control sk-hidden--visually\" id=\"sk-estimator-id-1\" type=\"checkbox\" checked><label for=\"sk-estimator-id-1\" class=\"sk-toggleable__label sk-toggleable__label-arrow\">LogisticRegression</label><div class=\"sk-toggleable__content\"><pre>LogisticRegression()</pre></div></div></div></div></div>"
            ]
          },
          "metadata": {},
          "execution_count": 8
        }
      ]
    },
    {
      "cell_type": "code",
      "source": [
        "from sklearn.model_selection import train_test_split\n",
        "x_train,x_test,y_train,y_test=train_test_split(iris.data,iris.target,test_size=0.2)"
      ],
      "metadata": {
        "id": "pEnO4dj5kIdA"
      },
      "execution_count": 9,
      "outputs": []
    },
    {
      "cell_type": "code",
      "source": [
        "rg.fit(x_train,y_train)"
      ],
      "metadata": {
        "colab": {
          "base_uri": "https://localhost:8080/",
          "height": 75
        },
        "id": "Top2q-c-kVwF",
        "outputId": "53dbbe1e-a8f4-44c3-8024-0829d05bb9a3"
      },
      "execution_count": 10,
      "outputs": [
        {
          "output_type": "execute_result",
          "data": {
            "text/plain": [
              "LogisticRegression()"
            ],
            "text/html": [
              "<style>#sk-container-id-2 {color: black;background-color: white;}#sk-container-id-2 pre{padding: 0;}#sk-container-id-2 div.sk-toggleable {background-color: white;}#sk-container-id-2 label.sk-toggleable__label {cursor: pointer;display: block;width: 100%;margin-bottom: 0;padding: 0.3em;box-sizing: border-box;text-align: center;}#sk-container-id-2 label.sk-toggleable__label-arrow:before {content: \"▸\";float: left;margin-right: 0.25em;color: #696969;}#sk-container-id-2 label.sk-toggleable__label-arrow:hover:before {color: black;}#sk-container-id-2 div.sk-estimator:hover label.sk-toggleable__label-arrow:before {color: black;}#sk-container-id-2 div.sk-toggleable__content {max-height: 0;max-width: 0;overflow: hidden;text-align: left;background-color: #f0f8ff;}#sk-container-id-2 div.sk-toggleable__content pre {margin: 0.2em;color: black;border-radius: 0.25em;background-color: #f0f8ff;}#sk-container-id-2 input.sk-toggleable__control:checked~div.sk-toggleable__content {max-height: 200px;max-width: 100%;overflow: auto;}#sk-container-id-2 input.sk-toggleable__control:checked~label.sk-toggleable__label-arrow:before {content: \"▾\";}#sk-container-id-2 div.sk-estimator input.sk-toggleable__control:checked~label.sk-toggleable__label {background-color: #d4ebff;}#sk-container-id-2 div.sk-label input.sk-toggleable__control:checked~label.sk-toggleable__label {background-color: #d4ebff;}#sk-container-id-2 input.sk-hidden--visually {border: 0;clip: rect(1px 1px 1px 1px);clip: rect(1px, 1px, 1px, 1px);height: 1px;margin: -1px;overflow: hidden;padding: 0;position: absolute;width: 1px;}#sk-container-id-2 div.sk-estimator {font-family: monospace;background-color: #f0f8ff;border: 1px dotted black;border-radius: 0.25em;box-sizing: border-box;margin-bottom: 0.5em;}#sk-container-id-2 div.sk-estimator:hover {background-color: #d4ebff;}#sk-container-id-2 div.sk-parallel-item::after {content: \"\";width: 100%;border-bottom: 1px solid gray;flex-grow: 1;}#sk-container-id-2 div.sk-label:hover label.sk-toggleable__label {background-color: #d4ebff;}#sk-container-id-2 div.sk-serial::before {content: \"\";position: absolute;border-left: 1px solid gray;box-sizing: border-box;top: 0;bottom: 0;left: 50%;z-index: 0;}#sk-container-id-2 div.sk-serial {display: flex;flex-direction: column;align-items: center;background-color: white;padding-right: 0.2em;padding-left: 0.2em;position: relative;}#sk-container-id-2 div.sk-item {position: relative;z-index: 1;}#sk-container-id-2 div.sk-parallel {display: flex;align-items: stretch;justify-content: center;background-color: white;position: relative;}#sk-container-id-2 div.sk-item::before, #sk-container-id-2 div.sk-parallel-item::before {content: \"\";position: absolute;border-left: 1px solid gray;box-sizing: border-box;top: 0;bottom: 0;left: 50%;z-index: -1;}#sk-container-id-2 div.sk-parallel-item {display: flex;flex-direction: column;z-index: 1;position: relative;background-color: white;}#sk-container-id-2 div.sk-parallel-item:first-child::after {align-self: flex-end;width: 50%;}#sk-container-id-2 div.sk-parallel-item:last-child::after {align-self: flex-start;width: 50%;}#sk-container-id-2 div.sk-parallel-item:only-child::after {width: 0;}#sk-container-id-2 div.sk-dashed-wrapped {border: 1px dashed gray;margin: 0 0.4em 0.5em 0.4em;box-sizing: border-box;padding-bottom: 0.4em;background-color: white;}#sk-container-id-2 div.sk-label label {font-family: monospace;font-weight: bold;display: inline-block;line-height: 1.2em;}#sk-container-id-2 div.sk-label-container {text-align: center;}#sk-container-id-2 div.sk-container {/* jupyter's `normalize.less` sets `[hidden] { display: none; }` but bootstrap.min.css set `[hidden] { display: none !important; }` so we also need the `!important` here to be able to override the default hidden behavior on the sphinx rendered scikit-learn.org. See: https://github.com/scikit-learn/scikit-learn/issues/21755 */display: inline-block !important;position: relative;}#sk-container-id-2 div.sk-text-repr-fallback {display: none;}</style><div id=\"sk-container-id-2\" class=\"sk-top-container\"><div class=\"sk-text-repr-fallback\"><pre>LogisticRegression()</pre><b>In a Jupyter environment, please rerun this cell to show the HTML representation or trust the notebook. <br />On GitHub, the HTML representation is unable to render, please try loading this page with nbviewer.org.</b></div><div class=\"sk-container\" hidden><div class=\"sk-item\"><div class=\"sk-estimator sk-toggleable\"><input class=\"sk-toggleable__control sk-hidden--visually\" id=\"sk-estimator-id-2\" type=\"checkbox\" checked><label for=\"sk-estimator-id-2\" class=\"sk-toggleable__label sk-toggleable__label-arrow\">LogisticRegression</label><div class=\"sk-toggleable__content\"><pre>LogisticRegression()</pre></div></div></div></div></div>"
            ]
          },
          "metadata": {},
          "execution_count": 10
        }
      ]
    },
    {
      "cell_type": "code",
      "source": [
        "rg.score(x_test,y_test)"
      ],
      "metadata": {
        "colab": {
          "base_uri": "https://localhost:8080/"
        },
        "id": "AJPRnMAZkaxe",
        "outputId": "54c0ecd4-f1f0-406e-b697-467e3e77357c"
      },
      "execution_count": 11,
      "outputs": [
        {
          "output_type": "execute_result",
          "data": {
            "text/plain": [
              "0.9666666666666667"
            ]
          },
          "metadata": {},
          "execution_count": 11
        }
      ]
    },
    {
      "cell_type": "code",
      "source": [
        "rg.predict(x_test)"
      ],
      "metadata": {
        "colab": {
          "base_uri": "https://localhost:8080/"
        },
        "id": "U9PQt8Bhkgzj",
        "outputId": "01c1811c-5c7f-4387-e7e1-58870f6d6ee3"
      },
      "execution_count": 12,
      "outputs": [
        {
          "output_type": "execute_result",
          "data": {
            "text/plain": [
              "array([0, 2, 1, 2, 1, 0, 2, 2, 2, 1, 1, 0, 0, 0, 2, 1, 1, 0, 0, 2, 2, 2,\n",
              "       0, 1, 2, 2, 1, 1, 0, 1])"
            ]
          },
          "metadata": {},
          "execution_count": 12
        }
      ]
    },
    {
      "cell_type": "code",
      "source": [
        "for i in range(20):\n",
        "  print(rg.predict([x_test[i]]),y_test[i])"
      ],
      "metadata": {
        "colab": {
          "base_uri": "https://localhost:8080/"
        },
        "id": "kzkKx-y0ktMY",
        "outputId": "d1dfdf5a-768d-4d2e-86e6-e43ce9160fbc"
      },
      "execution_count": 13,
      "outputs": [
        {
          "output_type": "stream",
          "name": "stdout",
          "text": [
            "[0] 0\n",
            "[2] 2\n",
            "[1] 1\n",
            "[2] 2\n",
            "[1] 1\n",
            "[0] 0\n",
            "[2] 2\n",
            "[2] 2\n",
            "[2] 2\n",
            "[1] 1\n",
            "[1] 1\n",
            "[0] 0\n",
            "[0] 0\n",
            "[0] 0\n",
            "[2] 1\n",
            "[1] 1\n",
            "[1] 1\n",
            "[0] 0\n",
            "[0] 0\n",
            "[2] 2\n"
          ]
        }
      ]
    },
    {
      "cell_type": "code",
      "source": [
        "from sklearn.metrics import confusion_matrix, ConfusionMatrixDisplay"
      ],
      "metadata": {
        "id": "AX0iVuY-l0d0"
      },
      "execution_count": 14,
      "outputs": []
    },
    {
      "cell_type": "code",
      "source": [
        "y_pred = rg.predict(x_test)\n",
        "\n",
        "# Generate the confusion matrix\n",
        "cm = confusion_matrix(y_pred, y_test)\n",
        "\n",
        "# Display the confusion matrix using Matplotlib\n",
        "disp = ConfusionMatrixDisplay(confusion_matrix=cm)\n",
        "disp.plot(cmap=plt.cm.Blues)\n",
        "plt.show()\n"
      ],
      "metadata": {
        "colab": {
          "base_uri": "https://localhost:8080/",
          "height": 455
        },
        "id": "TpJCg-y9mLMC",
        "outputId": "b38ac286-25b4-4346-f653-97402828affc"
      },
      "execution_count": 15,
      "outputs": [
        {
          "output_type": "display_data",
          "data": {
            "text/plain": [
              "<Figure size 640x480 with 2 Axes>"
            ],
            "image/png": "[encoded data removed]"
          },
          "metadata": {}
        }
      ]
    },
    {
      "cell_type": "code",
      "source": [
        "rg.predict([[6.2,2.7,5.8,1.9]])"
      ],
      "metadata": {
        "colab": {
          "base_uri": "https://localhost:8080/"
        },
        "id": "OILyjsdKpPJP",
        "outputId": "ce05ede0-a02d-473d-c40a-e5f86681124e"
      },
      "execution_count": 16,
      "outputs": [
        {
          "output_type": "execute_result",
          "data": {
            "text/plain": [
              "array([2])"
            ]
          },
          "metadata": {},
          "execution_count": 16
        }
      ]
    }
  ]
}